{
 "cells": [
  {
   "cell_type": "code",
   "execution_count": 1,
   "metadata": {},
   "outputs": [
    {
     "name": "stdout",
     "output_type": "stream",
     "text": [
      "/teamspace/studios/this_studio/nanoMoD\n"
     ]
    },
    {
     "name": "stderr",
     "output_type": "stream",
     "text": [
      "/home/zeus/miniconda3/envs/cloudspace/lib/python3.10/site-packages/IPython/core/magics/osm.py:417: UserWarning: using dhist requires you to install the `pickleshare` library.\n",
      "  self.shell.db['dhist'] = compress_dhist(dhist)[-100:]\n"
     ]
    }
   ],
   "source": [
    "%cd nanoMoD"
   ]
  },
  {
   "cell_type": "code",
   "execution_count": 11,
   "metadata": {},
   "outputs": [],
   "source": [
    "import torch\n",
    "import wandb\n",
    "from hydra import compose, initialize\n",
    "from pprint import pprint\n",
    "\n",
    "from nanomod import utils\n",
    "from nanomod.model import DnasSearchModel, GPT\n",
    "from nanomod.dataset import get_dataloaders\n",
    "from nanomod.configuration import set_config_store"
   ]
  },
  {
   "cell_type": "code",
   "execution_count": 8,
   "metadata": {},
   "outputs": [],
   "source": [
    "set_config_store()\n",
    "with initialize(version_base=None, config_path=\"config\"):\n",
    "    cfg = compose(config_name=\"config_search\", overrides=[\"data=distil\", \"train=dnas/distil\", \"dnas=distil\"])"
   ]
  },
  {
   "cell_type": "code",
   "execution_count": 15,
   "metadata": {},
   "outputs": [
    {
     "name": "stdout",
     "output_type": "stream",
     "text": [
      "{'batch_size': 64,\n",
      " 'num_tokens': 5000000,\n",
      " 'num_workers': 4,\n",
      " 'pin_memory': True,\n",
      " 'seed': 42,\n",
      " 'seq_len': 256,\n",
      " 'train_dataset': 'random'}\n"
     ]
    }
   ],
   "source": [
    "pprint(dict(cfg.data))"
   ]
  },
  {
   "cell_type": "code",
   "execution_count": 14,
   "metadata": {},
   "outputs": [
    {
     "name": "stdout",
     "output_type": "stream",
     "text": [
      "{'distillation_loss': 'mse',\n",
      " 'epochs': 3,\n",
      " 'eval_iterations': 100,\n",
      " 'grad_clip_alphas': None,\n",
      " 'grad_clip_model': None,\n",
      " 'log_interval': 50,\n",
      " 'lr_alphas': 0.006,\n",
      " 'lr_model': 0.0006,\n",
      " 'max_steps': 1500,\n",
      " 'train_router_steps': 0.5,\n",
      " 'use_distillation': True,\n",
      " 'use_fp16': True,\n",
      " 'use_wandb': True,\n",
      " 'watch_mode': 'gradients',\n",
      " 'watch_model': False}\n"
     ]
    }
   ],
   "source": [
    "pprint(dict(cfg.train))"
   ]
  },
  {
   "cell_type": "code",
   "execution_count": 16,
   "metadata": {},
   "outputs": [
    {
     "name": "stdout",
     "output_type": "stream",
     "text": [
      "{'a': 0.6,\n",
      " 'all_trainable': False,\n",
      " 'b': 2.0,\n",
      " 'capacity_ratio_search_space': [0.1, 0.2, 0.3, 0.4, 0.5, 0.6, 0.7, 0.8, 0.9, 1.0],\n",
      " 'compute_mode': 'sqrt',\n",
      " 'fix_first_last': True,\n",
      " 'gumbel_temperature': 6.0,\n",
      " 'hard_sampling': True,\n",
      " 'share_router_weights': False}\n"
     ]
    }
   ],
   "source": [
    "pprint(dict(cfg.dnas))"
   ]
  },
  {
   "cell_type": "code",
   "execution_count": 17,
   "metadata": {},
   "outputs": [],
   "source": [
    "state_dict, model_config = utils.load_checkpoint(use_wandb=False)"
   ]
  },
  {
   "cell_type": "code",
   "execution_count": 18,
   "metadata": {},
   "outputs": [
    {
     "name": "stdout",
     "output_type": "stream",
     "text": [
      "number of parameters: 29.96M\n"
     ]
    },
    {
     "data": {
      "text/plain": [
       "<All keys matched successfully>"
      ]
     },
     "execution_count": 18,
     "metadata": {},
     "output_type": "execute_result"
    }
   ],
   "source": [
    "base_model = GPT(model_config)\n",
    "base_model.load_state_dict(state_dict)"
   ]
  },
  {
   "cell_type": "code",
   "execution_count": 26,
   "metadata": {},
   "outputs": [],
   "source": [
    "model = DnasSearchModel(base_model, cfg.dnas)\n",
    "model.freeze()"
   ]
  },
  {
   "cell_type": "code",
   "execution_count": 17,
   "metadata": {},
   "outputs": [],
   "source": [
    "train_loader, val_loader = get_dataloaders(cfg.data)"
   ]
  },
  {
   "cell_type": "code",
   "execution_count": 18,
   "metadata": {},
   "outputs": [],
   "source": [
    "inputs, targets = next(iter(train_loader))"
   ]
  },
  {
   "cell_type": "code",
   "execution_count": 22,
   "metadata": {},
   "outputs": [],
   "source": [
    "with torch.no_grad():\n",
    "    logits, loss = base_model(inputs, targets)"
   ]
  },
  {
   "cell_type": "code",
   "execution_count": 27,
   "metadata": {},
   "outputs": [],
   "source": [
    "with torch.no_grad():\n",
    "    logits, loss = model(inputs, targets)"
   ]
  },
  {
   "cell_type": "code",
   "execution_count": 28,
   "metadata": {},
   "outputs": [
    {
     "data": {
      "text/plain": [
       "tensor(12.4444)"
      ]
     },
     "execution_count": 28,
     "metadata": {},
     "output_type": "execute_result"
    }
   ],
   "source": [
    "loss"
   ]
  },
  {
   "cell_type": "code",
   "execution_count": 23,
   "metadata": {},
   "outputs": [
    {
     "data": {
      "text/plain": [
       "tensor(5.2774)"
      ]
     },
     "execution_count": 23,
     "metadata": {},
     "output_type": "execute_result"
    }
   ],
   "source": [
    "loss"
   ]
  }
 ],
 "metadata": {
  "language_info": {
   "name": "python"
  }
 },
 "nbformat": 4,
 "nbformat_minor": 2
}
